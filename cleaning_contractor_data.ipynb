{
 "metadata": {
  "language_info": {
   "codemirror_mode": {
    "name": "ipython",
    "version": 3
   },
   "file_extension": ".py",
   "mimetype": "text/x-python",
   "name": "python",
   "nbconvert_exporter": "python",
   "pygments_lexer": "ipython3",
   "version": "3.7.6-final"
  },
  "orig_nbformat": 2,
  "kernelspec": {
   "name": "python3",
   "display_name": "Python 3.7.6 64-bit ('ryana': virtualenv)",
   "metadata": {
    "interpreter": {
     "hash": "c0257def0b83be22260978ac37df28cc4d9e68461e3f756886d0aa086af0afe5"
    }
   }
  }
 },
 "nbformat": 4,
 "nbformat_minor": 2,
 "cells": [
  {
   "cell_type": "code",
   "execution_count": 112,
   "metadata": {},
   "outputs": [],
   "source": [
    "#import dependencies\n",
    "import pandas as pd \n",
    "import numpy as np\n"
   ]
  },
  {
   "cell_type": "code",
   "execution_count": 113,
   "metadata": {},
   "outputs": [
    {
     "output_type": "stream",
     "name": "stderr",
     "text": [
      "Exception ignored in: <function ZipFile.__del__ at 0x000001F47CB0C438>\nTraceback (most recent call last):\n  File \"C:\\Users\\ryana\\anaconda3\\lib\\zipfile.py\", line 1809, in __del__\n    self.close()\n  File \"C:\\Users\\ryana\\anaconda3\\lib\\zipfile.py\", line 1827, in close\n    self._write_end_record()\n  File \"C:\\Users\\ryana\\anaconda3\\lib\\zipfile.py\", line 1931, in _write_end_record\n    self.fp.write(endrec)\n  File \"C:\\Users\\ryana\\anaconda3\\lib\\zipfile.py\", line 771, in write\n    n = self.fp.write(data)\n  File \"C:\\Users\\ryana\\anaconda3\\lib\\site-packages\\pandas\\core\\generic.py\", line 5274, in __getattr__\n    return object.__getattribute__(self, name)\nAttributeError: 'DataFrame' object has no attribute 'write'\n"
     ]
    }
   ],
   "source": [
    "#read in all files\n",
    "# Arizona = pd.read_excel('./cleaner_xlsx/Arizona.xlsx')\n",
    "California = pd.read_excel('./cleaner_xlsx/California.xlsx')\n",
    "DesMoinesIowa = pd.read_excel('./cleaner_xlsx/DesMoinesIowa.xlsx')\n",
    "FloridaNoPhoneNumber = pd.read_excel('./cleaner_xlsx/FloridaNOPHONENUMBER.xlsx')\n",
    "Illinois = pd.read_excel('./cleaner_xlsx/Illinois.xlsx')\n",
    "Minnesota = pd.read_excel('./cleaner_xlsx/Minnesota.xlsx')\n",
    "Pennsylvania = pd.read_excel('./cleaner_xlsx/Pennsylvania.xlsx')\n",
    "MiscToMerge = pd.read_excel('./cleaner_xlsx/MiscToMerge.xlsx')"
   ]
  },
  {
   "cell_type": "code",
   "execution_count": 114,
   "metadata": {},
   "outputs": [
    {
     "output_type": "execute_result",
     "data": {
      "text/plain": [
       "   Unnamed: 0  License No                         Business Name  \\\n",
       "0           1      303300               #1 Arizona Electric LLC   \n",
       "1           2      245090             $99 Home Improvements LLC   \n",
       "2           3      323387  0369 Security Solutions Services LLC   \n",
       "3           4      273326                    1 2 3 Flooring Inc   \n",
       "4           5      293292                    1 2 3 Flooring Inc   \n",
       "\n",
       "                                   Doing Business As  \\\n",
       "0                                                      \n",
       "1                                                      \n",
       "2                                            0369SSS   \n",
       "3   1 2 3 Flooring and Construction, 1 2 3 Constr...   \n",
       "4   1 2 3 Flooring and Construction, 1 2 3 Constr...   \n",
       "\n",
       "                    Address Address 2              City State    Zip  \\\n",
       "0           315 Foxpoint Ln            Lake Havasu City    AZ  86406   \n",
       "1         6252 W Cochise Dr                    Glendale    AZ  85302   \n",
       "2  16356 W Cielo Grande Ave                    Surprise    AZ  85387   \n",
       "3         1830 S Lindsay Rd                     Gilbert    AZ  85295   \n",
       "4         1830 S Lindsay Rd                     Gilbert    AZ  85295   \n",
       "\n",
       "            Qualifying Party  Class  \\\n",
       "0         John William Dolan  CR-11   \n",
       "1   Michael Lloyd Van Winkle   R-62   \n",
       "2  Burnett Capae Sheppard Sr  CR-67   \n",
       "3             Kamran Afshari   CR-8   \n",
       "4             Kamran Afshari    B-3   \n",
       "\n",
       "                                   Class Detail   Class Type Issued Date  \\\n",
       "0                              CR-11 Electrical         Dual    3/2/2016   \n",
       "1                  R-62 Minor Home Improvements  Residential   5/16/2008   \n",
       "2       CR-67 Low Voltage Communication Systems         Dual   1/29/2019   \n",
       "3                           CR-8 Floor Covering         Dual   5/30/2011   \n",
       "4  B-3 General Remodeling and Repair Contractor  Residential   6/28/2014   \n",
       "\n",
       "  Expiration Date   Status  \n",
       "0       3/31/2022  Current  \n",
       "1       5/31/2022  Current  \n",
       "2       1/31/2023  Current  \n",
       "3       5/31/2021  Current  \n",
       "4       6/30/2022  Current  "
      ],
      "text/html": "<div>\n<style scoped>\n    .dataframe tbody tr th:only-of-type {\n        vertical-align: middle;\n    }\n\n    .dataframe tbody tr th {\n        vertical-align: top;\n    }\n\n    .dataframe thead th {\n        text-align: right;\n    }\n</style>\n<table border=\"1\" class=\"dataframe\">\n  <thead>\n    <tr style=\"text-align: right;\">\n      <th></th>\n      <th>Unnamed: 0</th>\n      <th>License No</th>\n      <th>Business Name</th>\n      <th>Doing Business As</th>\n      <th>Address</th>\n      <th>Address 2</th>\n      <th>City</th>\n      <th>State</th>\n      <th>Zip</th>\n      <th>Qualifying Party</th>\n      <th>Class</th>\n      <th>Class Detail</th>\n      <th>Class Type</th>\n      <th>Issued Date</th>\n      <th>Expiration Date</th>\n      <th>Status</th>\n    </tr>\n  </thead>\n  <tbody>\n    <tr>\n      <th>0</th>\n      <td>1</td>\n      <td>303300</td>\n      <td>#1 Arizona Electric LLC</td>\n      <td></td>\n      <td>315 Foxpoint Ln</td>\n      <td></td>\n      <td>Lake Havasu City</td>\n      <td>AZ</td>\n      <td>86406</td>\n      <td>John William Dolan</td>\n      <td>CR-11</td>\n      <td>CR-11 Electrical</td>\n      <td>Dual</td>\n      <td>3/2/2016</td>\n      <td>3/31/2022</td>\n      <td>Current</td>\n    </tr>\n    <tr>\n      <th>1</th>\n      <td>2</td>\n      <td>245090</td>\n      <td>$99 Home Improvements LLC</td>\n      <td></td>\n      <td>6252 W Cochise Dr</td>\n      <td></td>\n      <td>Glendale</td>\n      <td>AZ</td>\n      <td>85302</td>\n      <td>Michael Lloyd Van Winkle</td>\n      <td>R-62</td>\n      <td>R-62 Minor Home Improvements</td>\n      <td>Residential</td>\n      <td>5/16/2008</td>\n      <td>5/31/2022</td>\n      <td>Current</td>\n    </tr>\n    <tr>\n      <th>2</th>\n      <td>3</td>\n      <td>323387</td>\n      <td>0369 Security Solutions Services LLC</td>\n      <td>0369SSS</td>\n      <td>16356 W Cielo Grande Ave</td>\n      <td></td>\n      <td>Surprise</td>\n      <td>AZ</td>\n      <td>85387</td>\n      <td>Burnett Capae Sheppard Sr</td>\n      <td>CR-67</td>\n      <td>CR-67 Low Voltage Communication Systems</td>\n      <td>Dual</td>\n      <td>1/29/2019</td>\n      <td>1/31/2023</td>\n      <td>Current</td>\n    </tr>\n    <tr>\n      <th>3</th>\n      <td>4</td>\n      <td>273326</td>\n      <td>1 2 3 Flooring Inc</td>\n      <td>1 2 3 Flooring and Construction, 1 2 3 Constr...</td>\n      <td>1830 S Lindsay Rd</td>\n      <td></td>\n      <td>Gilbert</td>\n      <td>AZ</td>\n      <td>85295</td>\n      <td>Kamran Afshari</td>\n      <td>CR-8</td>\n      <td>CR-8 Floor Covering</td>\n      <td>Dual</td>\n      <td>5/30/2011</td>\n      <td>5/31/2021</td>\n      <td>Current</td>\n    </tr>\n    <tr>\n      <th>4</th>\n      <td>5</td>\n      <td>293292</td>\n      <td>1 2 3 Flooring Inc</td>\n      <td>1 2 3 Flooring and Construction, 1 2 3 Constr...</td>\n      <td>1830 S Lindsay Rd</td>\n      <td></td>\n      <td>Gilbert</td>\n      <td>AZ</td>\n      <td>85295</td>\n      <td>Kamran Afshari</td>\n      <td>B-3</td>\n      <td>B-3 General Remodeling and Repair Contractor</td>\n      <td>Residential</td>\n      <td>6/28/2014</td>\n      <td>6/30/2022</td>\n      <td>Current</td>\n    </tr>\n  </tbody>\n</table>\n</div>"
     },
     "metadata": {},
     "execution_count": 114
    }
   ],
   "source": [
    "Arizona.head()"
   ]
  },
  {
   "cell_type": "code",
   "execution_count": 115,
   "metadata": {},
   "outputs": [
    {
     "output_type": "execute_result",
     "data": {
      "text/plain": [
       "   Unnamed: 0                         FullBusinessName  Business_Phone  \\\n",
       "0           0  North American Dismantling & Demolition  (888) 639-1652   \n",
       "1           1                        Basalla Homes LLC  (814) 692-7234   \n",
       "2           2                John F. Kelius Excavating  (610) 323-8546   \n",
       "3           3                      Bairs Stone Masonry  (570) 858-0394   \n",
       "4           4                         James Excavating  (814) 539-1903   \n",
       "\n",
       "                         Business_email_url   Business_address          City  \\\n",
       "0                             nfo@nadc1.com                NaN           NaN   \n",
       "1                                       NaN        165 Lutz Ln  Port Matilda   \n",
       "2  john@johnkeliusplumbingandexcavating.com     1587 Rupert Rd     Pottstown   \n",
       "3                                       NaN      27 Juniper Ln     Mill Hall   \n",
       "4         darla.poloyac@jamesexcavating.com  476 Hildebrand St     Johnstown   \n",
       "\n",
       "  State      Zip  \n",
       "0   NaN      NaN  \n",
       "1    PA  16870.0  \n",
       "2    PA  19464.0  \n",
       "3    PA  17751.0  \n",
       "4    PA  15909.0  "
      ],
      "text/html": "<div>\n<style scoped>\n    .dataframe tbody tr th:only-of-type {\n        vertical-align: middle;\n    }\n\n    .dataframe tbody tr th {\n        vertical-align: top;\n    }\n\n    .dataframe thead th {\n        text-align: right;\n    }\n</style>\n<table border=\"1\" class=\"dataframe\">\n  <thead>\n    <tr style=\"text-align: right;\">\n      <th></th>\n      <th>Unnamed: 0</th>\n      <th>FullBusinessName</th>\n      <th>Business_Phone</th>\n      <th>Business_email_url</th>\n      <th>Business_address</th>\n      <th>City</th>\n      <th>State</th>\n      <th>Zip</th>\n    </tr>\n  </thead>\n  <tbody>\n    <tr>\n      <th>0</th>\n      <td>0</td>\n      <td>North American Dismantling &amp; Demolition</td>\n      <td>(888) 639-1652</td>\n      <td>nfo@nadc1.com</td>\n      <td>NaN</td>\n      <td>NaN</td>\n      <td>NaN</td>\n      <td>NaN</td>\n    </tr>\n    <tr>\n      <th>1</th>\n      <td>1</td>\n      <td>Basalla Homes LLC</td>\n      <td>(814) 692-7234</td>\n      <td>NaN</td>\n      <td>165 Lutz Ln</td>\n      <td>Port Matilda</td>\n      <td>PA</td>\n      <td>16870.0</td>\n    </tr>\n    <tr>\n      <th>2</th>\n      <td>2</td>\n      <td>John F. Kelius Excavating</td>\n      <td>(610) 323-8546</td>\n      <td>john@johnkeliusplumbingandexcavating.com</td>\n      <td>1587 Rupert Rd</td>\n      <td>Pottstown</td>\n      <td>PA</td>\n      <td>19464.0</td>\n    </tr>\n    <tr>\n      <th>3</th>\n      <td>3</td>\n      <td>Bairs Stone Masonry</td>\n      <td>(570) 858-0394</td>\n      <td>NaN</td>\n      <td>27 Juniper Ln</td>\n      <td>Mill Hall</td>\n      <td>PA</td>\n      <td>17751.0</td>\n    </tr>\n    <tr>\n      <th>4</th>\n      <td>4</td>\n      <td>James Excavating</td>\n      <td>(814) 539-1903</td>\n      <td>darla.poloyac@jamesexcavating.com</td>\n      <td>476 Hildebrand St</td>\n      <td>Johnstown</td>\n      <td>PA</td>\n      <td>15909.0</td>\n    </tr>\n  </tbody>\n</table>\n</div>"
     },
     "metadata": {},
     "execution_count": 115
    }
   ],
   "source": [
    "Pennsylvania.head()"
   ]
  },
  {
   "cell_type": "code",
   "execution_count": 116,
   "metadata": {},
   "outputs": [
    {
     "output_type": "execute_result",
     "data": {
      "text/plain": [
       "Unnamed: 0          228291\n",
       "LicenseNo           228291\n",
       "BusinessName        228291\n",
       "FullBusinessName     54462\n",
       "MailingAddress      228291\n",
       "City                228291\n",
       "State               228263\n",
       "ZIPCode             228289\n",
       "BusinessPhone       228125\n",
       "PrimaryStatus       228291\n",
       "dtype: int64"
      ]
     },
     "metadata": {},
     "execution_count": 116
    }
   ],
   "source": [
    "California.count()"
   ]
  },
  {
   "cell_type": "code",
   "execution_count": 117,
   "metadata": {},
   "outputs": [],
   "source": [
    "Minnesota = Minnesota.rename(columns = {' State':'State',' Addr1':'Addr1',' City':'City',' ZIP':'ZIP',' Phone No':'Phone No'})"
   ]
  },
  {
   "cell_type": "code",
   "execution_count": 118,
   "metadata": {},
   "outputs": [],
   "source": [
    "myList = [California,DesMoinesIowa,FloridaNoPhoneNumber,Illinois,Minnesota,Pennsylvania]\n",
    "for i in myList:\n",
    "    i.merge(MiscToMerge, how = 'left', on = 'State')\n",
    "    # print(i['State'].dtype)"
   ]
  },
  {
   "cell_type": "code",
   "execution_count": 119,
   "metadata": {},
   "outputs": [
    {
     "output_type": "execute_result",
     "data": {
      "text/plain": [
       "Index(['Unnamed: 0', 'Name', 'Addr1', ' Addr2', 'City', 'State', 'ZIP',\n",
       "       ' LicNumber', ' Status', ' CE Status', ' Orig Date', ' Exp Date',\n",
       "       'Phone No', 'Unnamed: 12'],\n",
       "      dtype='object')"
      ]
     },
     "metadata": {},
     "execution_count": 119
    }
   ],
   "source": [
    "Minnesota.columns"
   ]
  },
  {
   "cell_type": "code",
   "execution_count": 120,
   "metadata": {},
   "outputs": [],
   "source": [
    "Minnesota = Minnesota[['Name','Addr1', 'City','State','ZIP','Phone No']]\n",
    "California.dropna()\n",
    "California = California[['BusinessName', 'FullBusinessName','MailingAddress','City','State','ZIPCode','BusinessPhone']]\n",
    "DesMoinesIowa = DesMoinesIowa[['FullBusinessName','MailingAddress','City', 'State', 'Zip Code', 'BusinessPhone']]\n",
    "Illinois = Illinois.dropna(subset=['FullBusinessName','Business_Phone','Business_address'])\n",
    "Illinois = Illinois[['FullBusinessName','Business_Phone','Business_address','Business_email_url','City','State','Zip']]\n",
    "Minnesota = Minnesota.dropna(subset=['Phone No'])\n",
    "Pennsylvania = Pennsylvania.dropna(subset=['FullBusinessName','Business_Phone','Business_address'])\n",
    "Pennsylvania = Pennsylvania[['FullBusinessName','Business_Phone','Business_email_url', 'Business_address', 'City', 'State', 'Zip']]"
   ]
  },
  {
   "cell_type": "code",
   "execution_count": 121,
   "metadata": {},
   "outputs": [],
   "source": [
    "#Push to new excel clean up excel for tomorrow delete unneeded excel\n",
    "myNewList = [California,DesMoinesIowa,Illinois,Minnesota,Pennsylvania]\n",
    "\n",
    "  \n",
    "California.to_excel('./NewestEXCEL/California.xlsx')\n",
    "DesMoinesIowa.to_excel('./NewestEXCEL/DesMoinesIowa.xlsx')\n",
    "Illinois.to_excel('./NewestEXCEL/Illinois.xlsx')\n",
    "Minnesota.to_excel('./NewestEXCEL/Minnesota.xlsx')\n",
    "Pennsylvania.to_excel('./NewestEXCEL/Pennsylvania.xlsx')"
   ]
  },
  {
   "cell_type": "code",
   "execution_count": null,
   "metadata": {},
   "outputs": [],
   "source": []
  }
 ]
}